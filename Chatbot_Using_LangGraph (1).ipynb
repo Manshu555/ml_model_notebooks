{
  "nbformat": 4,
  "nbformat_minor": 0,
  "metadata": {
    "colab": {
      "provenance": []
    },
    "kernelspec": {
      "name": "python3",
      "display_name": "Python 3"
    },
    "language_info": {
      "name": "python"
    }
  },
  "cells": [
    {
      "cell_type": "code",
      "execution_count": null,
      "metadata": {
        "id": "5H46scghI3BQ"
      },
      "outputs": [],
      "source": [
        "!pip install --upgrade openai langgraph langchain-core"
      ]
    },
    {
      "cell_type": "markdown",
      "source": [
        "PASTE ACCESS TOKEN FROM HF"
      ],
      "metadata": {
        "id": "kVcAi6ymLrWR"
      }
    },
    {
      "cell_type": "code",
      "source": [
        "import os\n",
        "os.environ[\"HUGGINGFACEHUB_API_TOKEN\"] = \"paste access token here\""
      ],
      "metadata": {
        "id": "Qbf7r__4I3pD"
      },
      "execution_count": 3,
      "outputs": []
    },
    {
      "cell_type": "code",
      "source": [
        "from openai import OpenAI\n",
        "import os\n",
        "client = OpenAI(\n",
        "    base_url=\"https://router.huggingface.co/v1\",\n",
        "    api_key=os.environ[\"HUGGINGFACEHUB_API_TOKEN\"],\n",
        ")\n"
      ],
      "metadata": {
        "id": "kHs725GzJHZG"
      },
      "execution_count": 4,
      "outputs": []
    },
    {
      "cell_type": "code",
      "source": [
        "MODEL_ID = \"mistralai/Mistral-7B-Instruct-v0.2:featherless-ai\"\n",
        "\n",
        "def llm_send(messages, model=MODEL_ID, temperature=0.7, max_tokens=512):\n",
        "    completion = client.chat.completions.create(\n",
        "        model=model,\n",
        "        messages=messages,\n",
        "        temperature=temperature,\n",
        "        max_tokens=max_tokens,\n",
        "    )\n",
        "\n",
        "    choice = completion.choices[0]\n",
        "    content = None\n",
        "    try:\n",
        "        msg = choice.message\n",
        "        if isinstance(msg, dict):\n",
        "            content = msg.get(\"content\") or msg.get(\"content\", None)\n",
        "        else:\n",
        "            content = getattr(msg, \"content\", None)\n",
        "            if isinstance(content, dict):\n",
        "                content = content.get(\"text\") or content.get(\"text\", [None])[0] if content else None\n",
        "    except Exception:\n",
        "        pass\n",
        "    if not content:\n",
        "        content = getattr(choice, \"text\", None) or str(choice)\n",
        "\n",
        "    return content\n"
      ],
      "metadata": {
        "id": "U6hM5wxkJJE3"
      },
      "execution_count": 5,
      "outputs": []
    },
    {
      "cell_type": "code",
      "source": [
        "from typing import TypedDict, List, Dict\n",
        "from langgraph.graph import StateGraph, START, END\n",
        "\n",
        "class ChatState(TypedDict):\n",
        "    messages: List[Dict[str, str]]\n",
        "\n",
        "def hf_chat_node(state: ChatState) -> ChatState:\n",
        "    messages = state.get(\"messages\", [])\n",
        "    assistant_text = llm_send(messages)\n",
        "    messages = messages + [{\"role\": \"assistant\", \"content\": assistant_text}]\n",
        "    return {\"messages\": messages}\n",
        "\n",
        "graph = StateGraph(ChatState)\n",
        "graph.add_node(\"chat\", hf_chat_node)\n",
        "graph.add_edge(START, \"chat\")\n",
        "graph.add_edge(\"chat\", END)\n",
        "app = graph.compile()\n"
      ],
      "metadata": {
        "id": "-Zfcp1GbJVtI"
      },
      "execution_count": 6,
      "outputs": []
    },
    {
      "cell_type": "code",
      "source": [
        "initial_messages = [\n",
        "    {\"role\": \"system\", \"content\": \"You are a helpful assistant.\"}\n",
        "]\n",
        "\n",
        "state = {\"messages\": initial_messages.copy()}\n",
        "\n",
        "print(\"LangGraph + HF Router Chat (type 'exit' to quit)\\n\")\n",
        "\n",
        "while True:\n",
        "    user = input(\"User: \").strip()\n",
        "    if user.lower() in (\"exit\", \"quit\"):\n",
        "        print(\"Goodbye.\")\n",
        "        break\n",
        "    state[\"messages\"].append({\"role\": \"user\", \"content\": user})\n",
        "    out_state = app.invoke(state)\n",
        "    assistant_reply = out_state[\"messages\"][-1][\"content\"]\n",
        "    print(\"Assistant:\", assistant_reply, \"\\n\")\n",
        "    state = out_state\n"
      ],
      "metadata": {
        "colab": {
          "base_uri": "https://localhost:8080/"
        },
        "id": "P97W5HXkJX1X",
        "outputId": "393bad59-1b3f-40b8-bd2f-6aed73d4fb59"
      },
      "execution_count": 8,
      "outputs": [
        {
          "output_type": "stream",
          "name": "stdout",
          "text": [
            "LangGraph + HF Router Chat (type 'exit' to quit)\n",
            "\n",
            "User: hii my name is manshu\n",
            "Assistant:  Hello Manshu, nice to meet you. How can I assist you today? If you have any questions or need help with a specific task, feel free to ask. \n",
            "\n",
            "User: can u tell me what is my name?\n",
            "Assistant:  Manshu, you introduced yourself at the beginning of our conversation. So, your name is Manshu. Is there something specific you would like help with regarding your name or any other topic? Let me know how I can assist you. \n",
            "\n",
            "User: can u multiply 100 with 3\n",
            "Assistant:   Yes, I can help you with that. The product of multiplying 100 by 3 is 300. So, 100 multiplied by 3 equals 300. Let me know if you have any other questions or need help with anything else. \n",
            "\n",
            "User: now divide the result by 2\n",
            "Assistant:   To divide the result by 2, we can perform the following calculation:\n",
            "\n",
            "300 ÷ 2 = 150\n",
            "\n",
            "So, the result of multiplying 100 by 3 and then dividing by 2 is 150. Let me know if you have any other questions or need help with anything else. \n",
            "\n",
            "User: exit\n",
            "Goodbye.\n"
          ]
        }
      ]
    },
    {
      "cell_type": "code",
      "source": [],
      "metadata": {
        "id": "JNhnxVXDJb9P"
      },
      "execution_count": null,
      "outputs": []
    }
  ]
}