{
  "nbformat": 4,
  "nbformat_minor": 0,
  "metadata": {
    "colab": {
      "provenance": [],
      "gpuType": "T4"
    },
    "kernelspec": {
      "name": "python3",
      "display_name": "Python 3"
    },
    "language_info": {
      "name": "python"
    },
    "accelerator": "GPU"
  },
  "cells": [
    {
      "cell_type": "code",
      "execution_count": 41,
      "metadata": {
        "id": "ROZ0Hikv-eEP"
      },
      "outputs": [],
      "source": [
        "para = \"\"\"Absolutely! Here's a much more detailed and expanded essay (approx. 10x the length) on the topic of time management, broken into coherent sections for clarity:\n",
        "\n",
        "The Power of Time Management: A Comprehensive Exploration\n",
        "\n",
        "Time management is more than just a productivity hack or a workplace skill—it's a foundational element of a successful, balanced, and meaningful life. In today’s fast-paced world, where distractions are plentiful and responsibilities are ever-growing, mastering the art of time management has become a vital necessity for individuals across all walks of life. From students and professionals to homemakers and entrepreneurs, everyone benefits from the ability to effectively manage their time. It’s not merely about getting more done; it’s about getting the right things done, in the right order, at the right time, while maintaining mental clarity and a sense of purpose.\n",
        "\n",
        "Understanding Time as a Finite Resource\n",
        "\n",
        "Time is one of the most democratic resources—we all get the same 24 hours in a day. Unlike money, time cannot be saved or earned back once it's spent. That’s what makes it so precious. However, despite this universal truth, many people struggle to manage their time effectively. The root cause often lies in a lack of planning, poor prioritization, and a failure to set clear, realistic goals. When time is not managed properly, it can lead to missed opportunities, heightened stress, and reduced quality of life.\n",
        "\n",
        "Benefits of Effective Time Management\n",
        "\n",
        "One of the most immediate and noticeable benefits of good time management is increased productivity. Individuals who manage their time well are able to complete tasks efficiently, often with higher quality results. But the advantages go far beyond mere output:\n",
        "\n",
        "Reduced Stress and Anxiety: With proper time allocation, there’s less rushing and more confidence in meeting deadlines.\n",
        "\n",
        "Improved Work-Life Balance: Time management creates space for relaxation, hobbies, and family—preventing burnout.\n",
        "\n",
        "Enhanced Decision-Making: Clear priorities lead to more thoughtful and less impulsive choices.\n",
        "\n",
        "Higher Achievement: Whether it's academic success, career growth, or personal goals, managing time effectively helps you progress steadily and sustainably.\n",
        "\n",
        "Self-Discipline and Accountability: Time management fosters internal discipline and a greater sense of responsibility.\n",
        "\n",
        "Core Principles of Time Management\n",
        "\n",
        "Time management isn't just about using planners and to-do lists. It relies on several psychological and practical principles:\n",
        "\n",
        "Prioritization: Understanding the difference between urgent and important tasks helps prevent time from being wasted on low-impact activities.\n",
        "\n",
        "Goal Setting: SMART (Specific, Measurable, Achievable, Relevant, Time-bound) goals give structure to time usage.\n",
        "\n",
        "Planning: Daily, weekly, and monthly planning allows individuals to anticipate challenges and allocate resources accordingly.\n",
        "\n",
        "Time Blocking: Allocating specific time slots for focused work helps in minimizing distractions and increasing deep work.\n",
        "\n",
        "Delegation: Not every task needs to be done by you. Delegating appropriately frees up time for high-value tasks.\n",
        "\n",
        "Self-Reflection: Regular reviews of how time is spent help to refine and improve time management strategies.\n",
        "\n",
        "Common Time Wasters and How to Avoid Them\n",
        "\n",
        "Even with the best intentions, many people fall into traps that drain their time. Some common time wasters include:\n",
        "\n",
        "Multitasking: Contrary to popular belief, multitasking reduces efficiency and increases mistakes.\n",
        "\n",
        "Procrastination: Delaying tasks creates a backlog and leads to stress.\n",
        "\n",
        "Lack of Organization: Disorganized spaces and digital clutter can waste hours.\n",
        "\n",
        "Distractions: Smartphones, emails, and social media are major productivity killers if not managed.\n",
        "\n",
        "Unclear Priorities: Without knowing what matters most, people end up being busy, not productive.\n",
        "\n",
        "To overcome these, strategies like the Pomodoro Technique (working in 25-minute bursts), digital detoxes, setting timers, and using task management apps can help maintain focus and control.\n",
        "\n",
        "Time Management in Different Contexts\n",
        "\n",
        "Students:\n",
        "\n",
        "For students, effective time management can mean the difference between academic success and failure. Balancing lectures, assignments, study time, extracurricular activities, and social life requires clear scheduling and prioritization. Techniques such as the Eisenhower Matrix or weekly planners can help students stay on track.\n",
        "\n",
        "Professionals:\n",
        "\n",
        "In the workplace, time is money. Professionals who manage their time well are not only more productive but are often seen as reliable and efficient, which can open doors for career advancement. Meeting deadlines, avoiding overcommitment, and setting work-life boundaries are all crucial.\n",
        "\n",
        "Entrepreneurs and Freelancers:\n",
        "\n",
        "Time is directly linked to income for entrepreneurs and freelancers. Without a structured schedule, it’s easy to work long hours and still feel unproductive. Creating routines, batching tasks, and using project management tools are key strategies for this group.\n",
        "\n",
        "Personal Life:\n",
        "\n",
        "Time management isn’t limited to work or study. Managing personal time means being present with family, pursuing hobbies, staying healthy, and getting enough rest. When managed well, personal time recharges us and improves overall quality of life.\n",
        "\n",
        "Tools and Techniques for Better Time Management\n",
        "\n",
        "A wide range of tools is available to help individuals better manage their time. These include:\n",
        "\n",
        "Digital Calendars: Google Calendar, Outlook\n",
        "\n",
        "To-Do List Apps: Todoist, Microsoft To-Do, Notion\n",
        "\n",
        "Project Management Tools: Trello, Asana, ClickUp\n",
        "\n",
        "Time Tracking Apps: Toggl, RescueTime\n",
        "\n",
        "Journals and Planners: Bullet journals, daily planners\n",
        "\n",
        "Beyond tools, techniques like \"Eat That Frog\" (doing the hardest task first), the 2-Minute Rule (if it takes less than 2 minutes, do it now), and batching similar tasks can greatly improve efficiency.\n",
        "\n",
        "Challenges in Time Management\n",
        "\n",
        "Despite knowing the benefits, many people struggle to implement effective time management due to:\n",
        "\n",
        "Lack of Motivation: Without clear goals or passion, managing time feels pointless.\n",
        "\n",
        "Poor Habits: Habits like sleeping late, overcommitting, or constant scrolling sabotage time use.\n",
        "\n",
        "External Pressures: Unpredictable events or other people's demands can disrupt plans.\n",
        "\n",
        "Mental Health Issues: Anxiety, ADHD, or depression can make it hard to stay organized.\n",
        "\n",
        "Overcoming these challenges requires building habits slowly, seeking support when needed, and being kind to oneself through the process.\n",
        "\n",
        "The Role of Discipline and Mindset\n",
        "\n",
        "Time management ultimately comes down to discipline and mindset. Discipline ensures that even when motivation fades, individuals continue to follow their routines and honor their priorities. A growth mindset allows people to learn from failures and improve over time. It's important to see time management as a journey, not a one-time fix. Consistency, reflection, and a willingness to adapt are key to long-term success.\n",
        "\n",
        "Conclusion\n",
        "\n",
        "In a world where time feels increasingly scarce, learning to manage it well can be truly life-changing. It enhances productivity, reduces stress, and creates space for joy, growth, and relationships. Whether you're working toward a degree, climbing the career ladder, or simply trying to enjoy each day more fully, time management provides the structure and clarity to help you succeed. It is not about being busy all the time, but about being intentional with how we spend our most precious resource—time.\n",
        "\n",
        "Let me know if you'd like a PDF version or want this tailored to a particular audience or context (like a speech or report).\"\"\"\n"
      ]
    },
    {
      "cell_type": "code",
      "source": [
        "import tensorflow as tf\n",
        "from tensorflow.keras.preprocessing.text import Tokenizer\n",
        "tokenizer = Tokenizer()\n",
        "tokenizer.fit_on_texts([para])\n",
        "print(tokenizer.word_index)"
      ],
      "metadata": {
        "colab": {
          "base_uri": "https://localhost:8080/"
        },
        "id": "_1oBpcib_CCF",
        "outputId": "70a8b71e-f301-4f75-af92-a977f1c43224"
      },
      "execution_count": 42,
      "outputs": [
        {
          "output_type": "stream",
          "name": "stdout",
          "text": [
            "{'time': 1, 'and': 2, 'to': 3, 'the': 4, 'a': 5, 'management': 6, 'of': 7, 'or': 8, 'for': 9, 'in': 10, 'can': 11, 'is': 12, 'life': 13, 'are': 14, 'it': 15, 'their': 16, 'not': 17, 'more': 18, 'manage': 19, 'tasks': 20, 'work': 21, 'being': 22, 'individuals': 23, 'about': 24, 'people': 25, 'with': 26, 'discipline': 27, 'help': 28, 'like': 29, 'tools': 30, 'on': 31, 'productivity': 32, 'all': 33, 'from': 34, 'students': 35, 'benefits': 36, 'as': 37, 'most': 38, 'clear': 39, 'goals': 40, 'when': 41, 'stress': 42, 'well': 43, 'personal': 44, 'planners': 45, 'do': 46, 'clarity': 47, 'distractions': 48, 'professionals': 49, 'entrepreneurs': 50, 'effectively': 51, 'it’s': 52, 'getting': 53, 'done': 54, 'right': 55, 'one': 56, 'hours': 57, 'be': 58, \"it's\": 59, 'this': 60, 'many': 61, 'often': 62, 'lack': 63, 'planning': 64, 'prioritization': 65, 'managed': 66, 'quality': 67, 'effective': 68, 'but': 69, 'less': 70, 'creates': 71, 'priorities': 72, 'success': 73, 'career': 74, 'growth': 75, 'managing': 76, 'helps': 77, 'you': 78, 'using': 79, 'setting': 80, 'challenges': 81, 'task': 82, 'how': 83, 'improve': 84, 'strategies': 85, 'that': 86, 'digital': 87, 'if': 88, 'without': 89, 'these': 90, 'apps': 91, 'techniques': 92, 'habits': 93, 'mindset': 94, 'into': 95, 'than': 96, 'just': 97, 'workplace': 98, 'world': 99, 'where': 100, 'mental': 101, 'sense': 102, 'understanding': 103, 'day': 104, 'money': 105, 'spent': 106, 'what': 107, 'precious': 108, 'despite': 109, 'struggle': 110, 'poor': 111, 'failure': 112, 'lead': 113, 'reduced': 114, 'who': 115, 'higher': 116, 'beyond': 117, 'anxiety': 118, 'meeting': 119, 'deadlines': 120, 'space': 121, 'hobbies': 122, 'whether': 123, 'academic': 124, 'self': 125, 'principles': 126, 'difference': 127, 'between': 128, 'important': 129, 'activities': 130, 'specific': 131, 'structure': 132, 'daily': 133, 'weekly': 134, 'allows': 135, 'up': 136, 'reflection': 137, 'common': 138, 'wasters': 139, 'even': 140, 'include': 141, 'multitasking': 142, 'reduces': 143, 'efficiency': 144, 'social': 145, 'knowing': 146, 'busy': 147, 'productive': 148, 'working': 149, 'minute': 150, 'study': 151, 'requires': 152, 'stay': 153, 'freelancers': 154, 'long': 155, 'routines': 156, 'batching': 157, 'project': 158, 'key': 159, 'better': 160, 'journals': 161, '2': 162, 'motivation': 163, 'feels': 164, 'absolutely': 165, \"here's\": 166, 'much': 167, 'detailed': 168, 'expanded': 169, 'essay': 170, 'approx': 171, '10x': 172, 'length': 173, 'topic': 174, 'broken': 175, 'coherent': 176, 'sections': 177, 'power': 178, 'comprehensive': 179, 'exploration': 180, 'hack': 181, \"skill—it's\": 182, 'foundational': 183, 'element': 184, 'successful': 185, 'balanced': 186, 'meaningful': 187, 'today’s': 188, 'fast': 189, 'paced': 190, 'plentiful': 191, 'responsibilities': 192, 'ever': 193, 'growing': 194, 'mastering': 195, 'art': 196, 'has': 197, 'become': 198, 'vital': 199, 'necessity': 200, 'across': 201, 'walks': 202, 'homemakers': 203, 'everyone': 204, 'ability': 205, 'merely': 206, 'things': 207, 'order': 208, 'at': 209, 'while': 210, 'maintaining': 211, 'purpose': 212, 'finite': 213, 'resource': 214, 'democratic': 215, 'resources—we': 216, 'get': 217, 'same': 218, '24': 219, 'unlike': 220, 'cannot': 221, 'saved': 222, 'earned': 223, 'back': 224, 'once': 225, 'that’s': 226, 'makes': 227, 'so': 228, 'however': 229, 'universal': 230, 'truth': 231, 'root': 232, 'cause': 233, 'lies': 234, 'set': 235, 'realistic': 236, 'properly': 237, 'missed': 238, 'opportunities': 239, 'heightened': 240, 'immediate': 241, 'noticeable': 242, 'good': 243, 'increased': 244, 'able': 245, 'complete': 246, 'efficiently': 247, 'results': 248, 'advantages': 249, 'go': 250, 'far': 251, 'mere': 252, 'output': 253, 'proper': 254, 'allocation': 255, 'there’s': 256, 'rushing': 257, 'confidence': 258, 'improved': 259, 'balance': 260, 'relaxation': 261, 'family—preventing': 262, 'burnout': 263, 'enhanced': 264, 'decision': 265, 'making': 266, 'thoughtful': 267, 'impulsive': 268, 'choices': 269, 'achievement': 270, 'progress': 271, 'steadily': 272, 'sustainably': 273, 'accountability': 274, 'fosters': 275, 'internal': 276, 'greater': 277, 'responsibility': 278, 'core': 279, \"isn't\": 280, 'lists': 281, 'relies': 282, 'several': 283, 'psychological': 284, 'practical': 285, 'urgent': 286, 'prevent': 287, 'wasted': 288, 'low': 289, 'impact': 290, 'goal': 291, 'smart': 292, 'measurable': 293, 'achievable': 294, 'relevant': 295, 'bound': 296, 'give': 297, 'usage': 298, 'monthly': 299, 'anticipate': 300, 'allocate': 301, 'resources': 302, 'accordingly': 303, 'blocking': 304, 'allocating': 305, 'slots': 306, 'focused': 307, 'minimizing': 308, 'increasing': 309, 'deep': 310, 'delegation': 311, 'every': 312, 'needs': 313, 'by': 314, 'delegating': 315, 'appropriately': 316, 'frees': 317, 'high': 318, 'value': 319, 'regular': 320, 'reviews': 321, 'refine': 322, 'avoid': 323, 'them': 324, 'best': 325, 'intentions': 326, 'fall': 327, 'traps': 328, 'drain': 329, 'some': 330, 'contrary': 331, 'popular': 332, 'belief': 333, 'increases': 334, 'mistakes': 335, 'procrastination': 336, 'delaying': 337, 'backlog': 338, 'leads': 339, 'organization': 340, 'disorganized': 341, 'spaces': 342, 'clutter': 343, 'waste': 344, 'smartphones': 345, 'emails': 346, 'media': 347, 'major': 348, 'killers': 349, 'unclear': 350, 'matters': 351, 'end': 352, 'overcome': 353, 'pomodoro': 354, 'technique': 355, '25': 356, 'bursts': 357, 'detoxes': 358, 'timers': 359, 'maintain': 360, 'focus': 361, 'control': 362, 'different': 363, 'contexts': 364, 'mean': 365, 'balancing': 366, 'lectures': 367, 'assignments': 368, 'extracurricular': 369, 'scheduling': 370, 'such': 371, 'eisenhower': 372, 'matrix': 373, 'track': 374, 'only': 375, 'seen': 376, 'reliable': 377, 'efficient': 378, 'which': 379, 'open': 380, 'doors': 381, 'advancement': 382, 'avoiding': 383, 'overcommitment': 384, 'boundaries': 385, 'crucial': 386, 'directly': 387, 'linked': 388, 'income': 389, 'structured': 390, 'schedule': 391, 'easy': 392, 'still': 393, 'feel': 394, 'unproductive': 395, 'creating': 396, 'group': 397, 'isn’t': 398, 'limited': 399, 'means': 400, 'present': 401, 'family': 402, 'pursuing': 403, 'staying': 404, 'healthy': 405, 'enough': 406, 'rest': 407, 'recharges': 408, 'us': 409, 'improves': 410, 'overall': 411, 'wide': 412, 'range': 413, 'available': 414, 'calendars': 415, 'google': 416, 'calendar': 417, 'outlook': 418, 'list': 419, 'todoist': 420, 'microsoft': 421, 'notion': 422, 'trello': 423, 'asana': 424, 'clickup': 425, 'tracking': 426, 'toggl': 427, 'rescuetime': 428, 'bullet': 429, 'eat': 430, 'frog': 431, 'doing': 432, 'hardest': 433, 'first': 434, 'rule': 435, 'takes': 436, 'minutes': 437, 'now': 438, 'similar': 439, 'greatly': 440, 'implement': 441, 'due': 442, 'passion': 443, 'pointless': 444, 'sleeping': 445, 'late': 446, 'overcommitting': 447, 'constant': 448, 'scrolling': 449, 'sabotage': 450, 'use': 451, 'external': 452, 'pressures': 453, 'unpredictable': 454, 'events': 455, 'other': 456, \"people's\": 457, 'demands': 458, 'disrupt': 459, 'plans': 460, 'health': 461, 'issues': 462, 'adhd': 463, 'depression': 464, 'make': 465, 'hard': 466, 'organized': 467, 'overcoming': 468, 'building': 469, 'slowly': 470, 'seeking': 471, 'support': 472, 'needed': 473, 'kind': 474, 'oneself': 475, 'through': 476, 'process': 477, 'role': 478, 'ultimately': 479, 'comes': 480, 'down': 481, 'ensures': 482, 'fades': 483, 'continue': 484, 'follow': 485, 'honor': 486, 'learn': 487, 'failures': 488, 'over': 489, 'see': 490, 'journey': 491, 'fix': 492, 'consistency': 493, 'willingness': 494, 'adapt': 495, 'term': 496, 'conclusion': 497, 'increasingly': 498, 'scarce': 499, 'learning': 500, 'truly': 501, 'changing': 502, 'enhances': 503, 'joy': 504, 'relationships': 505, \"you're\": 506, 'toward': 507, 'degree': 508, 'climbing': 509, 'ladder': 510, 'simply': 511, 'trying': 512, 'enjoy': 513, 'each': 514, 'fully': 515, 'provides': 516, 'succeed': 517, 'intentional': 518, 'we': 519, 'spend': 520, 'our': 521, 'resource—time': 522, 'let': 523, 'me': 524, 'know': 525, \"you'd\": 526, 'pdf': 527, 'version': 528, 'want': 529, 'tailored': 530, 'particular': 531, 'audience': 532, 'context': 533, 'speech': 534, 'report': 535}\n"
          ]
        }
      ]
    },
    {
      "cell_type": "code",
      "source": [
        "i_seq = []\n",
        "for seq in para.split('\\n'):\n",
        "  t_seq = tokenizer.texts_to_sequences([seq])[0]\n",
        "  for i in range(1,len(t_seq)) :\n",
        "    i_seq.append(t_seq[:i+1])"
      ],
      "metadata": {
        "id": "oiQpIz29_xFp"
      },
      "execution_count": 43,
      "outputs": []
    },
    {
      "cell_type": "code",
      "source": [
        "# prompt: zero padding\n",
        "\n",
        "from tensorflow.keras.preprocessing.sequence import pad_sequences\n",
        "max_len = max([len(seq) for seq in i_seq])\n",
        "i_seq = pad_sequences(i_seq,maxlen=max_len,padding='pre')"
      ],
      "metadata": {
        "id": "D1eLHNEoBtob"
      },
      "execution_count": 44,
      "outputs": []
    },
    {
      "cell_type": "code",
      "source": [
        "X = i_seq[:,:-1]\n",
        "y = i_seq[:,-1]"
      ],
      "metadata": {
        "id": "Pt7YEf97CC_H"
      },
      "execution_count": 45,
      "outputs": []
    },
    {
      "cell_type": "code",
      "source": [
        "# prompt: one hot encode\n",
        "from tensorflow.keras.utils import to_categorical\n",
        "y = tf.keras.utils.to_categorical(y, num_classes=len(tokenizer.word_index) + 1)"
      ],
      "metadata": {
        "id": "K05Z_129Cgdg"
      },
      "execution_count": 46,
      "outputs": []
    },
    {
      "cell_type": "code",
      "source": [
        "import tensorflow\n",
        "from tensorflow import keras\n",
        "from keras.models import Sequential\n",
        "from keras.layers import Dense , Embedding , LSTM"
      ],
      "metadata": {
        "id": "NRauqFpnDno9"
      },
      "execution_count": 47,
      "outputs": []
    },
    {
      "cell_type": "code",
      "source": [
        "model = Sequential()\n",
        "model.add(Embedding(len(tokenizer.word_index) + 1, 100))\n",
        "model.add(LSTM(150))\n",
        "model.add(Dense(len(tokenizer.word_index) + 1, activation='softmax'))\n",
        "\n",
        "model.build(input_shape=(None, len(i_seq)))  # batch size None, sequence length max_seq_len\n",
        "\n",
        "model.compile(loss='categorical_crossentropy', optimizer='adam', metrics=['accuracy'])\n",
        "model.summary()\n"
      ],
      "metadata": {
        "colab": {
          "base_uri": "https://localhost:8080/",
          "height": 232
        },
        "id": "gmgk0_mLEMyb",
        "outputId": "3d156ba6-31e2-4c55-82a4-2e6846a63add"
      },
      "execution_count": 48,
      "outputs": [
        {
          "output_type": "display_data",
          "data": {
            "text/plain": [
              "\u001b[1mModel: \"sequential_1\"\u001b[0m\n"
            ],
            "text/html": [
              "<pre style=\"white-space:pre;overflow-x:auto;line-height:normal;font-family:Menlo,'DejaVu Sans Mono',consolas,'Courier New',monospace\"><span style=\"font-weight: bold\">Model: \"sequential_1\"</span>\n",
              "</pre>\n"
            ]
          },
          "metadata": {}
        },
        {
          "output_type": "display_data",
          "data": {
            "text/plain": [
              "┏━━━━━━━━━━━━━━━━━━━━━━━━━━━━━━━━━┳━━━━━━━━━━━━━━━━━━━━━━━━┳━━━━━━━━━━━━━━━┓\n",
              "┃\u001b[1m \u001b[0m\u001b[1mLayer (type)                   \u001b[0m\u001b[1m \u001b[0m┃\u001b[1m \u001b[0m\u001b[1mOutput Shape          \u001b[0m\u001b[1m \u001b[0m┃\u001b[1m \u001b[0m\u001b[1m      Param #\u001b[0m\u001b[1m \u001b[0m┃\n",
              "┡━━━━━━━━━━━━━━━━━━━━━━━━━━━━━━━━━╇━━━━━━━━━━━━━━━━━━━━━━━━╇━━━━━━━━━━━━━━━┩\n",
              "│ embedding_1 (\u001b[38;5;33mEmbedding\u001b[0m)         │ (\u001b[38;5;45mNone\u001b[0m, \u001b[38;5;34m1068\u001b[0m, \u001b[38;5;34m100\u001b[0m)      │        \u001b[38;5;34m53,600\u001b[0m │\n",
              "├─────────────────────────────────┼────────────────────────┼───────────────┤\n",
              "│ lstm_1 (\u001b[38;5;33mLSTM\u001b[0m)                   │ (\u001b[38;5;45mNone\u001b[0m, \u001b[38;5;34m150\u001b[0m)            │       \u001b[38;5;34m150,600\u001b[0m │\n",
              "├─────────────────────────────────┼────────────────────────┼───────────────┤\n",
              "│ dense_1 (\u001b[38;5;33mDense\u001b[0m)                 │ (\u001b[38;5;45mNone\u001b[0m, \u001b[38;5;34m536\u001b[0m)            │        \u001b[38;5;34m80,936\u001b[0m │\n",
              "└─────────────────────────────────┴────────────────────────┴───────────────┘\n"
            ],
            "text/html": [
              "<pre style=\"white-space:pre;overflow-x:auto;line-height:normal;font-family:Menlo,'DejaVu Sans Mono',consolas,'Courier New',monospace\">┏━━━━━━━━━━━━━━━━━━━━━━━━━━━━━━━━━┳━━━━━━━━━━━━━━━━━━━━━━━━┳━━━━━━━━━━━━━━━┓\n",
              "┃<span style=\"font-weight: bold\"> Layer (type)                    </span>┃<span style=\"font-weight: bold\"> Output Shape           </span>┃<span style=\"font-weight: bold\">       Param # </span>┃\n",
              "┡━━━━━━━━━━━━━━━━━━━━━━━━━━━━━━━━━╇━━━━━━━━━━━━━━━━━━━━━━━━╇━━━━━━━━━━━━━━━┩\n",
              "│ embedding_1 (<span style=\"color: #0087ff; text-decoration-color: #0087ff\">Embedding</span>)         │ (<span style=\"color: #00d7ff; text-decoration-color: #00d7ff\">None</span>, <span style=\"color: #00af00; text-decoration-color: #00af00\">1068</span>, <span style=\"color: #00af00; text-decoration-color: #00af00\">100</span>)      │        <span style=\"color: #00af00; text-decoration-color: #00af00\">53,600</span> │\n",
              "├─────────────────────────────────┼────────────────────────┼───────────────┤\n",
              "│ lstm_1 (<span style=\"color: #0087ff; text-decoration-color: #0087ff\">LSTM</span>)                   │ (<span style=\"color: #00d7ff; text-decoration-color: #00d7ff\">None</span>, <span style=\"color: #00af00; text-decoration-color: #00af00\">150</span>)            │       <span style=\"color: #00af00; text-decoration-color: #00af00\">150,600</span> │\n",
              "├─────────────────────────────────┼────────────────────────┼───────────────┤\n",
              "│ dense_1 (<span style=\"color: #0087ff; text-decoration-color: #0087ff\">Dense</span>)                 │ (<span style=\"color: #00d7ff; text-decoration-color: #00d7ff\">None</span>, <span style=\"color: #00af00; text-decoration-color: #00af00\">536</span>)            │        <span style=\"color: #00af00; text-decoration-color: #00af00\">80,936</span> │\n",
              "└─────────────────────────────────┴────────────────────────┴───────────────┘\n",
              "</pre>\n"
            ]
          },
          "metadata": {}
        },
        {
          "output_type": "display_data",
          "data": {
            "text/plain": [
              "\u001b[1m Total params: \u001b[0m\u001b[38;5;34m285,136\u001b[0m (1.09 MB)\n"
            ],
            "text/html": [
              "<pre style=\"white-space:pre;overflow-x:auto;line-height:normal;font-family:Menlo,'DejaVu Sans Mono',consolas,'Courier New',monospace\"><span style=\"font-weight: bold\"> Total params: </span><span style=\"color: #00af00; text-decoration-color: #00af00\">285,136</span> (1.09 MB)\n",
              "</pre>\n"
            ]
          },
          "metadata": {}
        },
        {
          "output_type": "display_data",
          "data": {
            "text/plain": [
              "\u001b[1m Trainable params: \u001b[0m\u001b[38;5;34m285,136\u001b[0m (1.09 MB)\n"
            ],
            "text/html": [
              "<pre style=\"white-space:pre;overflow-x:auto;line-height:normal;font-family:Menlo,'DejaVu Sans Mono',consolas,'Courier New',monospace\"><span style=\"font-weight: bold\"> Trainable params: </span><span style=\"color: #00af00; text-decoration-color: #00af00\">285,136</span> (1.09 MB)\n",
              "</pre>\n"
            ]
          },
          "metadata": {}
        },
        {
          "output_type": "display_data",
          "data": {
            "text/plain": [
              "\u001b[1m Non-trainable params: \u001b[0m\u001b[38;5;34m0\u001b[0m (0.00 B)\n"
            ],
            "text/html": [
              "<pre style=\"white-space:pre;overflow-x:auto;line-height:normal;font-family:Menlo,'DejaVu Sans Mono',consolas,'Courier New',monospace\"><span style=\"font-weight: bold\"> Non-trainable params: </span><span style=\"color: #00af00; text-decoration-color: #00af00\">0</span> (0.00 B)\n",
              "</pre>\n"
            ]
          },
          "metadata": {}
        }
      ]
    },
    {
      "cell_type": "code",
      "source": [
        "X.shape"
      ],
      "metadata": {
        "colab": {
          "base_uri": "https://localhost:8080/"
        },
        "id": "aZKEbu_4HDRC",
        "outputId": "126e441e-42b3-42e0-80f2-ead78a1d8017"
      },
      "execution_count": 49,
      "outputs": [
        {
          "output_type": "execute_result",
          "data": {
            "text/plain": [
              "(1068, 103)"
            ]
          },
          "metadata": {},
          "execution_count": 49
        }
      ]
    },
    {
      "cell_type": "code",
      "source": [
        "model.fit(X,y,epochs = 100)"
      ],
      "metadata": {
        "colab": {
          "base_uri": "https://localhost:8080/"
        },
        "id": "9kxnsXqyIrWM",
        "outputId": "466582c1-3dc4-4333-f175-73fe73237c96"
      },
      "execution_count": 50,
      "outputs": [
        {
          "output_type": "stream",
          "name": "stdout",
          "text": [
            "Epoch 1/100\n",
            "\u001b[1m34/34\u001b[0m \u001b[32m━━━━━━━━━━━━━━━━━━━━\u001b[0m\u001b[37m\u001b[0m \u001b[1m2s\u001b[0m 11ms/step - accuracy: 0.0364 - loss: 6.2235\n",
            "Epoch 2/100\n",
            "\u001b[1m34/34\u001b[0m \u001b[32m━━━━━━━━━━━━━━━━━━━━\u001b[0m\u001b[37m\u001b[0m \u001b[1m1s\u001b[0m 11ms/step - accuracy: 0.0440 - loss: 5.6864\n",
            "Epoch 3/100\n",
            "\u001b[1m34/34\u001b[0m \u001b[32m━━━━━━━━━━━━━━━━━━━━\u001b[0m\u001b[37m\u001b[0m \u001b[1m1s\u001b[0m 11ms/step - accuracy: 0.0463 - loss: 5.7756\n",
            "Epoch 4/100\n",
            "\u001b[1m34/34\u001b[0m \u001b[32m━━━━━━━━━━━━━━━━━━━━\u001b[0m\u001b[37m\u001b[0m \u001b[1m1s\u001b[0m 11ms/step - accuracy: 0.0603 - loss: 5.6027\n",
            "Epoch 5/100\n",
            "\u001b[1m34/34\u001b[0m \u001b[32m━━━━━━━━━━━━━━━━━━━━\u001b[0m\u001b[37m\u001b[0m \u001b[1m0s\u001b[0m 8ms/step - accuracy: 0.0633 - loss: 5.6287\n",
            "Epoch 6/100\n",
            "\u001b[1m34/34\u001b[0m \u001b[32m━━━━━━━━━━━━━━━━━━━━\u001b[0m\u001b[37m\u001b[0m \u001b[1m0s\u001b[0m 8ms/step - accuracy: 0.0960 - loss: 5.4701\n",
            "Epoch 7/100\n",
            "\u001b[1m34/34\u001b[0m \u001b[32m━━━━━━━━━━━━━━━━━━━━\u001b[0m\u001b[37m\u001b[0m \u001b[1m0s\u001b[0m 8ms/step - accuracy: 0.0651 - loss: 5.3817\n",
            "Epoch 8/100\n",
            "\u001b[1m34/34\u001b[0m \u001b[32m━━━━━━━━━━━━━━━━━━━━\u001b[0m\u001b[37m\u001b[0m \u001b[1m0s\u001b[0m 8ms/step - accuracy: 0.0567 - loss: 5.3706\n",
            "Epoch 9/100\n",
            "\u001b[1m34/34\u001b[0m \u001b[32m━━━━━━━━━━━━━━━━━━━━\u001b[0m\u001b[37m\u001b[0m \u001b[1m0s\u001b[0m 8ms/step - accuracy: 0.0942 - loss: 5.0597\n",
            "Epoch 10/100\n",
            "\u001b[1m34/34\u001b[0m \u001b[32m━━━━━━━━━━━━━━━━━━━━\u001b[0m\u001b[37m\u001b[0m \u001b[1m0s\u001b[0m 8ms/step - accuracy: 0.1091 - loss: 4.9130\n",
            "Epoch 11/100\n",
            "\u001b[1m34/34\u001b[0m \u001b[32m━━━━━━━━━━━━━━━━━━━━\u001b[0m\u001b[37m\u001b[0m \u001b[1m0s\u001b[0m 8ms/step - accuracy: 0.1107 - loss: 4.7143\n",
            "Epoch 12/100\n",
            "\u001b[1m34/34\u001b[0m \u001b[32m━━━━━━━━━━━━━━━━━━━━\u001b[0m\u001b[37m\u001b[0m \u001b[1m0s\u001b[0m 8ms/step - accuracy: 0.1223 - loss: 4.5257\n",
            "Epoch 13/100\n",
            "\u001b[1m34/34\u001b[0m \u001b[32m━━━━━━━━━━━━━━━━━━━━\u001b[0m\u001b[37m\u001b[0m \u001b[1m0s\u001b[0m 8ms/step - accuracy: 0.1576 - loss: 4.2830\n",
            "Epoch 14/100\n",
            "\u001b[1m34/34\u001b[0m \u001b[32m━━━━━━━━━━━━━━━━━━━━\u001b[0m\u001b[37m\u001b[0m \u001b[1m0s\u001b[0m 8ms/step - accuracy: 0.1720 - loss: 4.1318\n",
            "Epoch 15/100\n",
            "\u001b[1m34/34\u001b[0m \u001b[32m━━━━━━━━━━━━━━━━━━━━\u001b[0m\u001b[37m\u001b[0m \u001b[1m0s\u001b[0m 9ms/step - accuracy: 0.2309 - loss: 3.8208\n",
            "Epoch 16/100\n",
            "\u001b[1m34/34\u001b[0m \u001b[32m━━━━━━━━━━━━━━━━━━━━\u001b[0m\u001b[37m\u001b[0m \u001b[1m1s\u001b[0m 8ms/step - accuracy: 0.2489 - loss: 3.6694\n",
            "Epoch 17/100\n",
            "\u001b[1m34/34\u001b[0m \u001b[32m━━━━━━━━━━━━━━━━━━━━\u001b[0m\u001b[37m\u001b[0m \u001b[1m0s\u001b[0m 8ms/step - accuracy: 0.2731 - loss: 3.4784\n",
            "Epoch 18/100\n",
            "\u001b[1m34/34\u001b[0m \u001b[32m━━━━━━━━━━━━━━━━━━━━\u001b[0m\u001b[37m\u001b[0m \u001b[1m0s\u001b[0m 8ms/step - accuracy: 0.3147 - loss: 3.2548\n",
            "Epoch 19/100\n",
            "\u001b[1m34/34\u001b[0m \u001b[32m━━━━━━━━━━━━━━━━━━━━\u001b[0m\u001b[37m\u001b[0m \u001b[1m0s\u001b[0m 8ms/step - accuracy: 0.3523 - loss: 3.0471\n",
            "Epoch 20/100\n",
            "\u001b[1m34/34\u001b[0m \u001b[32m━━━━━━━━━━━━━━━━━━━━\u001b[0m\u001b[37m\u001b[0m \u001b[1m0s\u001b[0m 8ms/step - accuracy: 0.4332 - loss: 2.8602\n",
            "Epoch 21/100\n",
            "\u001b[1m34/34\u001b[0m \u001b[32m━━━━━━━━━━━━━━━━━━━━\u001b[0m\u001b[37m\u001b[0m \u001b[1m0s\u001b[0m 8ms/step - accuracy: 0.4795 - loss: 2.6795\n",
            "Epoch 22/100\n",
            "\u001b[1m34/34\u001b[0m \u001b[32m━━━━━━━━━━━━━━━━━━━━\u001b[0m\u001b[37m\u001b[0m \u001b[1m0s\u001b[0m 8ms/step - accuracy: 0.5243 - loss: 2.5759\n",
            "Epoch 23/100\n",
            "\u001b[1m34/34\u001b[0m \u001b[32m━━━━━━━━━━━━━━━━━━━━\u001b[0m\u001b[37m\u001b[0m \u001b[1m0s\u001b[0m 8ms/step - accuracy: 0.5836 - loss: 2.3578\n",
            "Epoch 24/100\n",
            "\u001b[1m34/34\u001b[0m \u001b[32m━━━━━━━━━━━━━━━━━━━━\u001b[0m\u001b[37m\u001b[0m \u001b[1m0s\u001b[0m 8ms/step - accuracy: 0.6364 - loss: 2.2560\n",
            "Epoch 25/100\n",
            "\u001b[1m34/34\u001b[0m \u001b[32m━━━━━━━━━━━━━━━━━━━━\u001b[0m\u001b[37m\u001b[0m \u001b[1m0s\u001b[0m 8ms/step - accuracy: 0.6601 - loss: 2.0996\n",
            "Epoch 26/100\n",
            "\u001b[1m34/34\u001b[0m \u001b[32m━━━━━━━━━━━━━━━━━━━━\u001b[0m\u001b[37m\u001b[0m \u001b[1m0s\u001b[0m 8ms/step - accuracy: 0.7147 - loss: 1.9381\n",
            "Epoch 27/100\n",
            "\u001b[1m34/34\u001b[0m \u001b[32m━━━━━━━━━━━━━━━━━━━━\u001b[0m\u001b[37m\u001b[0m \u001b[1m0s\u001b[0m 8ms/step - accuracy: 0.7398 - loss: 1.8310\n",
            "Epoch 28/100\n",
            "\u001b[1m34/34\u001b[0m \u001b[32m━━━━━━━━━━━━━━━━━━━━\u001b[0m\u001b[37m\u001b[0m \u001b[1m0s\u001b[0m 8ms/step - accuracy: 0.7690 - loss: 1.6862\n",
            "Epoch 29/100\n",
            "\u001b[1m34/34\u001b[0m \u001b[32m━━━━━━━━━━━━━━━━━━━━\u001b[0m\u001b[37m\u001b[0m \u001b[1m0s\u001b[0m 8ms/step - accuracy: 0.8079 - loss: 1.5791\n",
            "Epoch 30/100\n",
            "\u001b[1m34/34\u001b[0m \u001b[32m━━━━━━━━━━━━━━━━━━━━\u001b[0m\u001b[37m\u001b[0m \u001b[1m0s\u001b[0m 8ms/step - accuracy: 0.8374 - loss: 1.4600\n",
            "Epoch 31/100\n",
            "\u001b[1m34/34\u001b[0m \u001b[32m━━━━━━━━━━━━━━━━━━━━\u001b[0m\u001b[37m\u001b[0m \u001b[1m0s\u001b[0m 8ms/step - accuracy: 0.8584 - loss: 1.3376\n",
            "Epoch 32/100\n",
            "\u001b[1m34/34\u001b[0m \u001b[32m━━━━━━━━━━━━━━━━━━━━\u001b[0m\u001b[37m\u001b[0m \u001b[1m0s\u001b[0m 8ms/step - accuracy: 0.8817 - loss: 1.2213\n",
            "Epoch 33/100\n",
            "\u001b[1m34/34\u001b[0m \u001b[32m━━━━━━━━━━━━━━━━━━━━\u001b[0m\u001b[37m\u001b[0m \u001b[1m0s\u001b[0m 8ms/step - accuracy: 0.8957 - loss: 1.1723\n",
            "Epoch 34/100\n",
            "\u001b[1m34/34\u001b[0m \u001b[32m━━━━━━━━━━━━━━━━━━━━\u001b[0m\u001b[37m\u001b[0m \u001b[1m0s\u001b[0m 8ms/step - accuracy: 0.9000 - loss: 1.0745\n",
            "Epoch 35/100\n",
            "\u001b[1m34/34\u001b[0m \u001b[32m━━━━━━━━━━━━━━━━━━━━\u001b[0m\u001b[37m\u001b[0m \u001b[1m0s\u001b[0m 8ms/step - accuracy: 0.9193 - loss: 1.0136\n",
            "Epoch 36/100\n",
            "\u001b[1m34/34\u001b[0m \u001b[32m━━━━━━━━━━━━━━━━━━━━\u001b[0m\u001b[37m\u001b[0m \u001b[1m0s\u001b[0m 8ms/step - accuracy: 0.9367 - loss: 0.9279\n",
            "Epoch 37/100\n",
            "\u001b[1m34/34\u001b[0m \u001b[32m━━━━━━━━━━━━━━━━━━━━\u001b[0m\u001b[37m\u001b[0m \u001b[1m0s\u001b[0m 9ms/step - accuracy: 0.9342 - loss: 0.8506\n",
            "Epoch 38/100\n",
            "\u001b[1m34/34\u001b[0m \u001b[32m━━━━━━━━━━━━━━━━━━━━\u001b[0m\u001b[37m\u001b[0m \u001b[1m1s\u001b[0m 11ms/step - accuracy: 0.9580 - loss: 0.7806\n",
            "Epoch 39/100\n",
            "\u001b[1m34/34\u001b[0m \u001b[32m━━━━━━━━━━━━━━━━━━━━\u001b[0m\u001b[37m\u001b[0m \u001b[1m0s\u001b[0m 11ms/step - accuracy: 0.9623 - loss: 0.7434\n",
            "Epoch 40/100\n",
            "\u001b[1m34/34\u001b[0m \u001b[32m━━━━━━━━━━━━━━━━━━━━\u001b[0m\u001b[37m\u001b[0m \u001b[1m1s\u001b[0m 12ms/step - accuracy: 0.9624 - loss: 0.6666\n",
            "Epoch 41/100\n",
            "\u001b[1m34/34\u001b[0m \u001b[32m━━━━━━━━━━━━━━━━━━━━\u001b[0m\u001b[37m\u001b[0m \u001b[1m0s\u001b[0m 8ms/step - accuracy: 0.9582 - loss: 0.6715\n",
            "Epoch 42/100\n",
            "\u001b[1m34/34\u001b[0m \u001b[32m━━━━━━━━━━━━━━━━━━━━\u001b[0m\u001b[37m\u001b[0m \u001b[1m0s\u001b[0m 8ms/step - accuracy: 0.9726 - loss: 0.5673\n",
            "Epoch 43/100\n",
            "\u001b[1m34/34\u001b[0m \u001b[32m━━━━━━━━━━━━━━━━━━━━\u001b[0m\u001b[37m\u001b[0m \u001b[1m0s\u001b[0m 8ms/step - accuracy: 0.9692 - loss: 0.5310\n",
            "Epoch 44/100\n",
            "\u001b[1m34/34\u001b[0m \u001b[32m━━━━━━━━━━━━━━━━━━━━\u001b[0m\u001b[37m\u001b[0m \u001b[1m0s\u001b[0m 8ms/step - accuracy: 0.9738 - loss: 0.5033\n",
            "Epoch 45/100\n",
            "\u001b[1m34/34\u001b[0m \u001b[32m━━━━━━━━━━━━━━━━━━━━\u001b[0m\u001b[37m\u001b[0m \u001b[1m0s\u001b[0m 8ms/step - accuracy: 0.9746 - loss: 0.4595\n",
            "Epoch 46/100\n",
            "\u001b[1m34/34\u001b[0m \u001b[32m━━━━━━━━━━━━━━━━━━━━\u001b[0m\u001b[37m\u001b[0m \u001b[1m0s\u001b[0m 8ms/step - accuracy: 0.9783 - loss: 0.4364\n",
            "Epoch 47/100\n",
            "\u001b[1m34/34\u001b[0m \u001b[32m━━━━━━━━━━━━━━━━━━━━\u001b[0m\u001b[37m\u001b[0m \u001b[1m0s\u001b[0m 8ms/step - accuracy: 0.9761 - loss: 0.4185\n",
            "Epoch 48/100\n",
            "\u001b[1m34/34\u001b[0m \u001b[32m━━━━━━━━━━━━━━━━━━━━\u001b[0m\u001b[37m\u001b[0m \u001b[1m0s\u001b[0m 8ms/step - accuracy: 0.9783 - loss: 0.3788\n",
            "Epoch 49/100\n",
            "\u001b[1m34/34\u001b[0m \u001b[32m━━━━━━━━━━━━━━━━━━━━\u001b[0m\u001b[37m\u001b[0m \u001b[1m0s\u001b[0m 8ms/step - accuracy: 0.9772 - loss: 0.3770\n",
            "Epoch 50/100\n",
            "\u001b[1m34/34\u001b[0m \u001b[32m━━━━━━━━━━━━━━━━━━━━\u001b[0m\u001b[37m\u001b[0m \u001b[1m0s\u001b[0m 8ms/step - accuracy: 0.9800 - loss: 0.3398\n",
            "Epoch 51/100\n",
            "\u001b[1m34/34\u001b[0m \u001b[32m━━━━━━━━━━━━━━━━━━━━\u001b[0m\u001b[37m\u001b[0m \u001b[1m0s\u001b[0m 8ms/step - accuracy: 0.9838 - loss: 0.3255\n",
            "Epoch 52/100\n",
            "\u001b[1m34/34\u001b[0m \u001b[32m━━━━━━━━━━━━━━━━━━━━\u001b[0m\u001b[37m\u001b[0m \u001b[1m0s\u001b[0m 8ms/step - accuracy: 0.9777 - loss: 0.3160\n",
            "Epoch 53/100\n",
            "\u001b[1m34/34\u001b[0m \u001b[32m━━━━━━━━━━━━━━━━━━━━\u001b[0m\u001b[37m\u001b[0m \u001b[1m0s\u001b[0m 8ms/step - accuracy: 0.9771 - loss: 0.2928\n",
            "Epoch 54/100\n",
            "\u001b[1m34/34\u001b[0m \u001b[32m━━━━━━━━━━━━━━━━━━━━\u001b[0m\u001b[37m\u001b[0m \u001b[1m0s\u001b[0m 8ms/step - accuracy: 0.9784 - loss: 0.2763\n",
            "Epoch 55/100\n",
            "\u001b[1m34/34\u001b[0m \u001b[32m━━━━━━━━━━━━━━━━━━━━\u001b[0m\u001b[37m\u001b[0m \u001b[1m0s\u001b[0m 8ms/step - accuracy: 0.9824 - loss: 0.2556\n",
            "Epoch 56/100\n",
            "\u001b[1m34/34\u001b[0m \u001b[32m━━━━━━━━━━━━━━━━━━━━\u001b[0m\u001b[37m\u001b[0m \u001b[1m0s\u001b[0m 8ms/step - accuracy: 0.9748 - loss: 0.2628\n",
            "Epoch 57/100\n",
            "\u001b[1m34/34\u001b[0m \u001b[32m━━━━━━━━━━━━━━━━━━━━\u001b[0m\u001b[37m\u001b[0m \u001b[1m0s\u001b[0m 8ms/step - accuracy: 0.9722 - loss: 0.2476\n",
            "Epoch 58/100\n",
            "\u001b[1m34/34\u001b[0m \u001b[32m━━━━━━━━━━━━━━━━━━━━\u001b[0m\u001b[37m\u001b[0m \u001b[1m0s\u001b[0m 8ms/step - accuracy: 0.9757 - loss: 0.2322\n",
            "Epoch 59/100\n",
            "\u001b[1m34/34\u001b[0m \u001b[32m━━━━━━━━━━━━━━━━━━━━\u001b[0m\u001b[37m\u001b[0m \u001b[1m0s\u001b[0m 8ms/step - accuracy: 0.9807 - loss: 0.2132\n",
            "Epoch 60/100\n",
            "\u001b[1m34/34\u001b[0m \u001b[32m━━━━━━━━━━━━━━━━━━━━\u001b[0m\u001b[37m\u001b[0m \u001b[1m0s\u001b[0m 8ms/step - accuracy: 0.9857 - loss: 0.1987\n",
            "Epoch 61/100\n",
            "\u001b[1m34/34\u001b[0m \u001b[32m━━━━━━━━━━━━━━━━━━━━\u001b[0m\u001b[37m\u001b[0m \u001b[1m0s\u001b[0m 8ms/step - accuracy: 0.9843 - loss: 0.1880\n",
            "Epoch 62/100\n",
            "\u001b[1m34/34\u001b[0m \u001b[32m━━━━━━━━━━━━━━━━━━━━\u001b[0m\u001b[37m\u001b[0m \u001b[1m0s\u001b[0m 8ms/step - accuracy: 0.9849 - loss: 0.1867\n",
            "Epoch 63/100\n",
            "\u001b[1m34/34\u001b[0m \u001b[32m━━━━━━━━━━━━━━━━━━━━\u001b[0m\u001b[37m\u001b[0m \u001b[1m0s\u001b[0m 8ms/step - accuracy: 0.9840 - loss: 0.1805\n",
            "Epoch 64/100\n",
            "\u001b[1m34/34\u001b[0m \u001b[32m━━━━━━━━━━━━━━━━━━━━\u001b[0m\u001b[37m\u001b[0m \u001b[1m1s\u001b[0m 8ms/step - accuracy: 0.9825 - loss: 0.1707\n",
            "Epoch 65/100\n",
            "\u001b[1m34/34\u001b[0m \u001b[32m━━━━━━━━━━━━━━━━━━━━\u001b[0m\u001b[37m\u001b[0m \u001b[1m0s\u001b[0m 8ms/step - accuracy: 0.9825 - loss: 0.1662\n",
            "Epoch 66/100\n",
            "\u001b[1m34/34\u001b[0m \u001b[32m━━━━━━━━━━━━━━━━━━━━\u001b[0m\u001b[37m\u001b[0m \u001b[1m1s\u001b[0m 8ms/step - accuracy: 0.9868 - loss: 0.1506\n",
            "Epoch 67/100\n",
            "\u001b[1m34/34\u001b[0m \u001b[32m━━━━━━━━━━━━━━━━━━━━\u001b[0m\u001b[37m\u001b[0m \u001b[1m0s\u001b[0m 8ms/step - accuracy: 0.9830 - loss: 0.1535\n",
            "Epoch 68/100\n",
            "\u001b[1m34/34\u001b[0m \u001b[32m━━━━━━━━━━━━━━━━━━━━\u001b[0m\u001b[37m\u001b[0m \u001b[1m0s\u001b[0m 8ms/step - accuracy: 0.9781 - loss: 0.1546\n",
            "Epoch 69/100\n",
            "\u001b[1m34/34\u001b[0m \u001b[32m━━━━━━━━━━━━━━━━━━━━\u001b[0m\u001b[37m\u001b[0m \u001b[1m0s\u001b[0m 8ms/step - accuracy: 0.9850 - loss: 0.1402\n",
            "Epoch 70/100\n",
            "\u001b[1m34/34\u001b[0m \u001b[32m━━━━━━━━━━━━━━━━━━━━\u001b[0m\u001b[37m\u001b[0m \u001b[1m0s\u001b[0m 8ms/step - accuracy: 0.9821 - loss: 0.1299\n",
            "Epoch 71/100\n",
            "\u001b[1m34/34\u001b[0m \u001b[32m━━━━━━━━━━━━━━━━━━━━\u001b[0m\u001b[37m\u001b[0m \u001b[1m0s\u001b[0m 9ms/step - accuracy: 0.9883 - loss: 0.1193\n",
            "Epoch 72/100\n",
            "\u001b[1m34/34\u001b[0m \u001b[32m━━━━━━━━━━━━━━━━━━━━\u001b[0m\u001b[37m\u001b[0m \u001b[1m0s\u001b[0m 11ms/step - accuracy: 0.9836 - loss: 0.1290\n",
            "Epoch 73/100\n",
            "\u001b[1m34/34\u001b[0m \u001b[32m━━━━━━━━━━━━━━━━━━━━\u001b[0m\u001b[37m\u001b[0m \u001b[1m0s\u001b[0m 11ms/step - accuracy: 0.9831 - loss: 0.1289\n",
            "Epoch 74/100\n",
            "\u001b[1m34/34\u001b[0m \u001b[32m━━━━━━━━━━━━━━━━━━━━\u001b[0m\u001b[37m\u001b[0m \u001b[1m1s\u001b[0m 11ms/step - accuracy: 0.9867 - loss: 0.1154\n",
            "Epoch 75/100\n",
            "\u001b[1m34/34\u001b[0m \u001b[32m━━━━━━━━━━━━━━━━━━━━\u001b[0m\u001b[37m\u001b[0m \u001b[1m1s\u001b[0m 10ms/step - accuracy: 0.9857 - loss: 0.1169\n",
            "Epoch 76/100\n",
            "\u001b[1m34/34\u001b[0m \u001b[32m━━━━━━━━━━━━━━━━━━━━\u001b[0m\u001b[37m\u001b[0m \u001b[1m0s\u001b[0m 8ms/step - accuracy: 0.9835 - loss: 0.1048\n",
            "Epoch 77/100\n",
            "\u001b[1m34/34\u001b[0m \u001b[32m━━━━━━━━━━━━━━━━━━━━\u001b[0m\u001b[37m\u001b[0m \u001b[1m0s\u001b[0m 8ms/step - accuracy: 0.9792 - loss: 0.1135\n",
            "Epoch 78/100\n",
            "\u001b[1m34/34\u001b[0m \u001b[32m━━━━━━━━━━━━━━━━━━━━\u001b[0m\u001b[37m\u001b[0m \u001b[1m0s\u001b[0m 8ms/step - accuracy: 0.9822 - loss: 0.1012\n",
            "Epoch 79/100\n",
            "\u001b[1m34/34\u001b[0m \u001b[32m━━━━━━━━━━━━━━━━━━━━\u001b[0m\u001b[37m\u001b[0m \u001b[1m0s\u001b[0m 8ms/step - accuracy: 0.9888 - loss: 0.0927\n",
            "Epoch 80/100\n",
            "\u001b[1m34/34\u001b[0m \u001b[32m━━━━━━━━━━━━━━━━━━━━\u001b[0m\u001b[37m\u001b[0m \u001b[1m0s\u001b[0m 8ms/step - accuracy: 0.9853 - loss: 0.0991\n",
            "Epoch 81/100\n",
            "\u001b[1m34/34\u001b[0m \u001b[32m━━━━━━━━━━━━━━━━━━━━\u001b[0m\u001b[37m\u001b[0m \u001b[1m0s\u001b[0m 8ms/step - accuracy: 0.9830 - loss: 0.0905\n",
            "Epoch 82/100\n",
            "\u001b[1m34/34\u001b[0m \u001b[32m━━━━━━━━━━━━━━━━━━━━\u001b[0m\u001b[37m\u001b[0m \u001b[1m0s\u001b[0m 8ms/step - accuracy: 0.9798 - loss: 0.1054\n",
            "Epoch 83/100\n",
            "\u001b[1m34/34\u001b[0m \u001b[32m━━━━━━━━━━━━━━━━━━━━\u001b[0m\u001b[37m\u001b[0m \u001b[1m0s\u001b[0m 8ms/step - accuracy: 0.9807 - loss: 0.0962\n",
            "Epoch 84/100\n",
            "\u001b[1m34/34\u001b[0m \u001b[32m━━━━━━━━━━━━━━━━━━━━\u001b[0m\u001b[37m\u001b[0m \u001b[1m0s\u001b[0m 8ms/step - accuracy: 0.9845 - loss: 0.0909\n",
            "Epoch 85/100\n",
            "\u001b[1m34/34\u001b[0m \u001b[32m━━━━━━━━━━━━━━━━━━━━\u001b[0m\u001b[37m\u001b[0m \u001b[1m0s\u001b[0m 8ms/step - accuracy: 0.9894 - loss: 0.0816\n",
            "Epoch 86/100\n",
            "\u001b[1m34/34\u001b[0m \u001b[32m━━━━━━━━━━━━━━━━━━━━\u001b[0m\u001b[37m\u001b[0m \u001b[1m0s\u001b[0m 8ms/step - accuracy: 0.9816 - loss: 0.0849\n",
            "Epoch 87/100\n",
            "\u001b[1m34/34\u001b[0m \u001b[32m━━━━━━━━━━━━━━━━━━━━\u001b[0m\u001b[37m\u001b[0m \u001b[1m0s\u001b[0m 8ms/step - accuracy: 0.9854 - loss: 0.0793\n",
            "Epoch 88/100\n",
            "\u001b[1m34/34\u001b[0m \u001b[32m━━━━━━━━━━━━━━━━━━━━\u001b[0m\u001b[37m\u001b[0m \u001b[1m0s\u001b[0m 8ms/step - accuracy: 0.9868 - loss: 0.0779\n",
            "Epoch 89/100\n",
            "\u001b[1m34/34\u001b[0m \u001b[32m━━━━━━━━━━━━━━━━━━━━\u001b[0m\u001b[37m\u001b[0m \u001b[1m0s\u001b[0m 8ms/step - accuracy: 0.9862 - loss: 0.0786\n",
            "Epoch 90/100\n",
            "\u001b[1m34/34\u001b[0m \u001b[32m━━━━━━━━━━━━━━━━━━━━\u001b[0m\u001b[37m\u001b[0m \u001b[1m1s\u001b[0m 8ms/step - accuracy: 0.9853 - loss: 0.0753\n",
            "Epoch 91/100\n",
            "\u001b[1m34/34\u001b[0m \u001b[32m━━━━━━━━━━━━━━━━━━━━\u001b[0m\u001b[37m\u001b[0m \u001b[1m0s\u001b[0m 8ms/step - accuracy: 0.9806 - loss: 0.0745\n",
            "Epoch 92/100\n",
            "\u001b[1m34/34\u001b[0m \u001b[32m━━━━━━━━━━━━━━━━━━━━\u001b[0m\u001b[37m\u001b[0m \u001b[1m0s\u001b[0m 8ms/step - accuracy: 0.9761 - loss: 0.0848\n",
            "Epoch 93/100\n",
            "\u001b[1m34/34\u001b[0m \u001b[32m━━━━━━━━━━━━━━━━━━━━\u001b[0m\u001b[37m\u001b[0m \u001b[1m0s\u001b[0m 8ms/step - accuracy: 0.9866 - loss: 0.0684\n",
            "Epoch 94/100\n",
            "\u001b[1m34/34\u001b[0m \u001b[32m━━━━━━━━━━━━━━━━━━━━\u001b[0m\u001b[37m\u001b[0m \u001b[1m0s\u001b[0m 8ms/step - accuracy: 0.9825 - loss: 0.0728\n",
            "Epoch 95/100\n",
            "\u001b[1m34/34\u001b[0m \u001b[32m━━━━━━━━━━━━━━━━━━━━\u001b[0m\u001b[37m\u001b[0m \u001b[1m0s\u001b[0m 8ms/step - accuracy: 0.9810 - loss: 0.0718\n",
            "Epoch 96/100\n",
            "\u001b[1m34/34\u001b[0m \u001b[32m━━━━━━━━━━━━━━━━━━━━\u001b[0m\u001b[37m\u001b[0m \u001b[1m0s\u001b[0m 8ms/step - accuracy: 0.9875 - loss: 0.0618\n",
            "Epoch 97/100\n",
            "\u001b[1m34/34\u001b[0m \u001b[32m━━━━━━━━━━━━━━━━━━━━\u001b[0m\u001b[37m\u001b[0m \u001b[1m0s\u001b[0m 8ms/step - accuracy: 0.9860 - loss: 0.0622\n",
            "Epoch 98/100\n",
            "\u001b[1m34/34\u001b[0m \u001b[32m━━━━━━━━━━━━━━━━━━━━\u001b[0m\u001b[37m\u001b[0m \u001b[1m0s\u001b[0m 8ms/step - accuracy: 0.9886 - loss: 0.0611\n",
            "Epoch 99/100\n",
            "\u001b[1m34/34\u001b[0m \u001b[32m━━━━━━━━━━━━━━━━━━━━\u001b[0m\u001b[37m\u001b[0m \u001b[1m0s\u001b[0m 8ms/step - accuracy: 0.9860 - loss: 0.0616\n",
            "Epoch 100/100\n",
            "\u001b[1m34/34\u001b[0m \u001b[32m━━━━━━━━━━━━━━━━━━━━\u001b[0m\u001b[37m\u001b[0m \u001b[1m0s\u001b[0m 8ms/step - accuracy: 0.9798 - loss: 0.0711\n"
          ]
        },
        {
          "output_type": "execute_result",
          "data": {
            "text/plain": [
              "<keras.src.callbacks.history.History at 0x7a19a5247e50>"
            ]
          },
          "metadata": {},
          "execution_count": 50
        }
      ]
    },
    {
      "cell_type": "code",
      "source": [
        "import numpy as np\n",
        "text = \"Effective Time Management\"\n",
        "\n",
        "for i in range(10):\n",
        "  #tokenizer\n",
        "  t_txt = tokenizer.texts_to_sequences([text])[0]\n",
        "  #padding\n",
        "  p_txt = pad_sequences([t_txt],maxlen=103,padding=\"pre\")\n",
        "  #predict\n",
        "  model.predict(p_txt)\n",
        "  pos = np.argmax(model.predict(p_txt))\n",
        "  for w,ind in tokenizer.word_index.items():\n",
        "    if ind == pos:\n",
        "      text += \" \" + w"
      ],
      "metadata": {
        "colab": {
          "base_uri": "https://localhost:8080/"
        },
        "id": "NRocgAqdJhD6",
        "outputId": "51083e24-7ad4-4038-bf9a-4f077b2638ec"
      },
      "execution_count": 51,
      "outputs": [
        {
          "output_type": "stream",
          "name": "stdout",
          "text": [
            "\u001b[1m1/1\u001b[0m \u001b[32m━━━━━━━━━━━━━━━━━━━━\u001b[0m\u001b[37m\u001b[0m \u001b[1m0s\u001b[0m 128ms/step\n",
            "\u001b[1m1/1\u001b[0m \u001b[32m━━━━━━━━━━━━━━━━━━━━\u001b[0m\u001b[37m\u001b[0m \u001b[1m0s\u001b[0m 30ms/step\n",
            "\u001b[1m1/1\u001b[0m \u001b[32m━━━━━━━━━━━━━━━━━━━━\u001b[0m\u001b[37m\u001b[0m \u001b[1m0s\u001b[0m 29ms/step\n",
            "\u001b[1m1/1\u001b[0m \u001b[32m━━━━━━━━━━━━━━━━━━━━\u001b[0m\u001b[37m\u001b[0m \u001b[1m0s\u001b[0m 31ms/step\n",
            "\u001b[1m1/1\u001b[0m \u001b[32m━━━━━━━━━━━━━━━━━━━━\u001b[0m\u001b[37m\u001b[0m \u001b[1m0s\u001b[0m 29ms/step\n",
            "\u001b[1m1/1\u001b[0m \u001b[32m━━━━━━━━━━━━━━━━━━━━\u001b[0m\u001b[37m\u001b[0m \u001b[1m0s\u001b[0m 29ms/step\n",
            "\u001b[1m1/1\u001b[0m \u001b[32m━━━━━━━━━━━━━━━━━━━━\u001b[0m\u001b[37m\u001b[0m \u001b[1m0s\u001b[0m 29ms/step\n",
            "\u001b[1m1/1\u001b[0m \u001b[32m━━━━━━━━━━━━━━━━━━━━\u001b[0m\u001b[37m\u001b[0m \u001b[1m0s\u001b[0m 35ms/step\n",
            "\u001b[1m1/1\u001b[0m \u001b[32m━━━━━━━━━━━━━━━━━━━━\u001b[0m\u001b[37m\u001b[0m \u001b[1m0s\u001b[0m 28ms/step\n",
            "\u001b[1m1/1\u001b[0m \u001b[32m━━━━━━━━━━━━━━━━━━━━\u001b[0m\u001b[37m\u001b[0m \u001b[1m0s\u001b[0m 28ms/step\n",
            "\u001b[1m1/1\u001b[0m \u001b[32m━━━━━━━━━━━━━━━━━━━━\u001b[0m\u001b[37m\u001b[0m \u001b[1m0s\u001b[0m 29ms/step\n",
            "\u001b[1m1/1\u001b[0m \u001b[32m━━━━━━━━━━━━━━━━━━━━\u001b[0m\u001b[37m\u001b[0m \u001b[1m0s\u001b[0m 30ms/step\n",
            "\u001b[1m1/1\u001b[0m \u001b[32m━━━━━━━━━━━━━━━━━━━━\u001b[0m\u001b[37m\u001b[0m \u001b[1m0s\u001b[0m 32ms/step\n",
            "\u001b[1m1/1\u001b[0m \u001b[32m━━━━━━━━━━━━━━━━━━━━\u001b[0m\u001b[37m\u001b[0m \u001b[1m0s\u001b[0m 30ms/step\n",
            "\u001b[1m1/1\u001b[0m \u001b[32m━━━━━━━━━━━━━━━━━━━━\u001b[0m\u001b[37m\u001b[0m \u001b[1m0s\u001b[0m 30ms/step\n",
            "\u001b[1m1/1\u001b[0m \u001b[32m━━━━━━━━━━━━━━━━━━━━\u001b[0m\u001b[37m\u001b[0m \u001b[1m0s\u001b[0m 29ms/step\n",
            "\u001b[1m1/1\u001b[0m \u001b[32m━━━━━━━━━━━━━━━━━━━━\u001b[0m\u001b[37m\u001b[0m \u001b[1m0s\u001b[0m 29ms/step\n",
            "\u001b[1m1/1\u001b[0m \u001b[32m━━━━━━━━━━━━━━━━━━━━\u001b[0m\u001b[37m\u001b[0m \u001b[1m0s\u001b[0m 29ms/step\n",
            "\u001b[1m1/1\u001b[0m \u001b[32m━━━━━━━━━━━━━━━━━━━━\u001b[0m\u001b[37m\u001b[0m \u001b[1m0s\u001b[0m 29ms/step\n",
            "\u001b[1m1/1\u001b[0m \u001b[32m━━━━━━━━━━━━━━━━━━━━\u001b[0m\u001b[37m\u001b[0m \u001b[1m0s\u001b[0m 31ms/step\n"
          ]
        }
      ]
    },
    {
      "cell_type": "code",
      "source": [
        "text\n",
        "\n"
      ],
      "metadata": {
        "colab": {
          "base_uri": "https://localhost:8080/",
          "height": 35
        },
        "id": "GkoEVhRjKnM8",
        "outputId": "af684199-8f7d-4aee-b697-432116a8b56c"
      },
      "execution_count": 52,
      "outputs": [
        {
          "output_type": "execute_result",
          "data": {
            "text/plain": [
              "'Effective Time Management is more than just a productivity hack or a workplace'"
            ],
            "application/vnd.google.colaboratory.intrinsic+json": {
              "type": "string"
            }
          },
          "metadata": {},
          "execution_count": 52
        }
      ]
    },
    {
      "cell_type": "code",
      "source": [],
      "metadata": {
        "id": "K2C2qHzAK1kL"
      },
      "execution_count": null,
      "outputs": []
    }
  ]
}